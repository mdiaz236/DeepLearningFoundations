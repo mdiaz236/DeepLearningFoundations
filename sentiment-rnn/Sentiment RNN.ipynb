{
 "cells": [
  {
   "cell_type": "markdown",
   "metadata": {
    "deletable": true,
    "editable": true
   },
   "source": [
    "# Sentiment Analysis with an RNN\n",
    "\n",
    "In this notebook, you'll implement a recurrent neural network that performs sentiment analysis. Using an RNN rather than a feedfoward network is more accurate since we can include information about the *sequence* of words. Here we'll use a dataset of movie reviews, accompanied by labels.\n",
    "\n",
    "The architecture for this network is shown below.\n",
    "\n",
    "<img src=\"assets/network_diagram.png\" width=400px>\n",
    "\n",
    "Here, we'll pass in words to an embedding layer. We need an embedding layer because we have tens of thousands of words, so we'll need a more efficient representation for our input data than one-hot encoded vectors. You should have seen this before from the word2vec lesson. You can actually train up an embedding with word2vec and use it here. But it's good enough to just have an embedding layer and let the network learn the embedding table on it's own.\n",
    "\n",
    "From the embedding layer, the new representations will be passed to LSTM cells. These will add recurrent connections to the network so we can include information about the sequence of words in the data. Finally, the LSTM cells will go to a sigmoid output layer here. We're using the sigmoid because we're trying to predict if this text has positive or negative sentiment. The output layer will just be a single unit then, with a sigmoid activation function.\n",
    "\n",
    "We don't care about the sigmoid outputs except for the very last one, we can ignore the rest. We'll calculate the cost from the output of the last step and the training label."
   ]
  },
  {
   "cell_type": "code",
   "execution_count": 21,
   "metadata": {
    "collapsed": true,
    "deletable": true,
    "editable": true
   },
   "outputs": [],
   "source": [
    "import numpy as np\n",
    "import tensorflow as tf\n",
    "from collections import Counter"
   ]
  },
  {
   "cell_type": "code",
   "execution_count": 46,
   "metadata": {
    "collapsed": false,
    "deletable": true,
    "editable": true
   },
   "outputs": [],
   "source": [
    "with open('../sentiment_network/reviews.txt', 'r') as f:\n",
    "    reviews = f.read()\n",
    "with open('../sentiment_network/labels.txt', 'r') as f:\n",
    "    labels = f.read()"
   ]
  },
  {
   "cell_type": "code",
   "execution_count": 47,
   "metadata": {
    "collapsed": false,
    "deletable": true,
    "editable": true
   },
   "outputs": [
    {
     "data": {
      "text/plain": [
       "'bromwell high is a cartoon comedy . it ran at the same time as some other programs about school life  such as  teachers  . my   years in the teaching profession lead me to believe that bromwell high  s satire is much closer to reality than is  teachers  . the scramble to survive financially  the insightful students who can see right through their pathetic teachers  pomp  the pettiness of the whole situation  all remind me of the schools i knew and their students . when i saw the episode in which a student repeatedly tried to burn down the school  i immediately recalled . . . . . . . . . at . . . . . . . . . . high . a classic line inspector i  m here to sack one of your teachers . student welcome to bromwell high . i expect that many adults of my age think that bromwell high is far fetched . what a pity that it isn  t   \\nstory of a man who has unnatural feelings for a pig . starts out with a opening scene that is a terrific example of absurd comedy . a formal orchestra audience is turned into an insane  violent mob by the crazy chantings of it  s singers . unfortunately it stays absurd the whole time with no general narrative eventually making it just too off putting . even those from the era should be turned off . the cryptic dialogue would make shakespeare seem easy to a third grader . on a technical level it  s better than you might think with some good cinematography by future great vilmos zsigmond . future stars sally kirkland and frederic forrest can be seen briefly .  \\nhomelessness  or houselessness as george carlin stated  has been an issue for years but never a plan to help those on the street that were once considered human who did everything from going to school  work  or vote for the matter . most people think of the homeless as just a lost cause while worrying about things such as racism  the war on iraq  pressuring kids to succeed  technology  the elections  inflation  or worrying if they  ll be next to end up on the streets .  br    br   but what if y'"
      ]
     },
     "execution_count": 47,
     "metadata": {},
     "output_type": "execute_result"
    }
   ],
   "source": [
    "reviews[:2000]"
   ]
  },
  {
   "cell_type": "markdown",
   "metadata": {
    "deletable": true,
    "editable": true
   },
   "source": [
    "## Data preprocessing\n",
    "\n",
    "The first step when building a neural network model is getting your data into the proper form to feed into the network. Since we're using embedding layers, we'll need to encode each word with an integer. We'll also want to clean it up a bit.\n",
    "\n",
    "You can see an example of the reviews data above. We'll want to get rid of those periods. Also, you might notice that the reviews are delimited with newlines `\\n`. To deal with those, I'm going to split the text into each review using `\\n` as the delimiter. Then I can combined all the reviews back together into one big string.\n",
    "\n",
    "First, let's remove all punctuation. Then get all the text without the newlines and split it into individual words."
   ]
  },
  {
   "cell_type": "code",
   "execution_count": 48,
   "metadata": {
    "collapsed": true,
    "deletable": true,
    "editable": true
   },
   "outputs": [],
   "source": [
    "from string import punctuation\n",
    "all_text = ''.join([c for c in reviews if c not in punctuation])\n",
    "reviews = all_text.split('\\n')\n",
    "\n",
    "all_text = ' '.join(reviews)\n",
    "words = all_text.split()"
   ]
  },
  {
   "cell_type": "code",
   "execution_count": 49,
   "metadata": {
    "collapsed": false,
    "deletable": true,
    "editable": true
   },
   "outputs": [
    {
     "data": {
      "text/plain": [
       "'bromwell high is a cartoon comedy  it ran at the same time as some other programs about school life  such as  teachers   my   years in the teaching profession lead me to believe that bromwell high  s satire is much closer to reality than is  teachers   the scramble to survive financially  the insightful students who can see right through their pathetic teachers  pomp  the pettiness of the whole situation  all remind me of the schools i knew and their students  when i saw the episode in which a student repeatedly tried to burn down the school  i immediately recalled          at           high  a classic line inspector i  m here to sack one of your teachers  student welcome to bromwell high  i expect that many adults of my age think that bromwell high is far fetched  what a pity that it isn  t    story of a man who has unnatural feelings for a pig  starts out with a opening scene that is a terrific example of absurd comedy  a formal orchestra audience is turned into an insane  violent mob by the crazy chantings of it  s singers  unfortunately it stays absurd the whole time with no general narrative eventually making it just too off putting  even those from the era should be turned off  the cryptic dialogue would make shakespeare seem easy to a third grader  on a technical level it  s better than you might think with some good cinematography by future great vilmos zsigmond  future stars sally kirkland and frederic forrest can be seen briefly    homelessness  or houselessness as george carlin stated  has been an issue for years but never a plan to help those on the street that were once considered human who did everything from going to school  work  or vote for the matter  most people think of the homeless as just a lost cause while worrying about things such as racism  the war on iraq  pressuring kids to succeed  technology  the elections  inflation  or worrying if they  ll be next to end up on the streets   br    br   but what if you were given a bet to live on the st'"
      ]
     },
     "execution_count": 49,
     "metadata": {},
     "output_type": "execute_result"
    }
   ],
   "source": [
    "all_text[:2000]"
   ]
  },
  {
   "cell_type": "code",
   "execution_count": 50,
   "metadata": {
    "collapsed": false,
    "deletable": true,
    "editable": true
   },
   "outputs": [
    {
     "data": {
      "text/plain": [
       "['bromwell',\n",
       " 'high',\n",
       " 'is',\n",
       " 'a',\n",
       " 'cartoon',\n",
       " 'comedy',\n",
       " 'it',\n",
       " 'ran',\n",
       " 'at',\n",
       " 'the',\n",
       " 'same',\n",
       " 'time',\n",
       " 'as',\n",
       " 'some',\n",
       " 'other',\n",
       " 'programs',\n",
       " 'about',\n",
       " 'school',\n",
       " 'life',\n",
       " 'such',\n",
       " 'as',\n",
       " 'teachers',\n",
       " 'my',\n",
       " 'years',\n",
       " 'in',\n",
       " 'the',\n",
       " 'teaching',\n",
       " 'profession',\n",
       " 'lead',\n",
       " 'me',\n",
       " 'to',\n",
       " 'believe',\n",
       " 'that',\n",
       " 'bromwell',\n",
       " 'high',\n",
       " 's',\n",
       " 'satire',\n",
       " 'is',\n",
       " 'much',\n",
       " 'closer',\n",
       " 'to',\n",
       " 'reality',\n",
       " 'than',\n",
       " 'is',\n",
       " 'teachers',\n",
       " 'the',\n",
       " 'scramble',\n",
       " 'to',\n",
       " 'survive',\n",
       " 'financially',\n",
       " 'the',\n",
       " 'insightful',\n",
       " 'students',\n",
       " 'who',\n",
       " 'can',\n",
       " 'see',\n",
       " 'right',\n",
       " 'through',\n",
       " 'their',\n",
       " 'pathetic',\n",
       " 'teachers',\n",
       " 'pomp',\n",
       " 'the',\n",
       " 'pettiness',\n",
       " 'of',\n",
       " 'the',\n",
       " 'whole',\n",
       " 'situation',\n",
       " 'all',\n",
       " 'remind',\n",
       " 'me',\n",
       " 'of',\n",
       " 'the',\n",
       " 'schools',\n",
       " 'i',\n",
       " 'knew',\n",
       " 'and',\n",
       " 'their',\n",
       " 'students',\n",
       " 'when',\n",
       " 'i',\n",
       " 'saw',\n",
       " 'the',\n",
       " 'episode',\n",
       " 'in',\n",
       " 'which',\n",
       " 'a',\n",
       " 'student',\n",
       " 'repeatedly',\n",
       " 'tried',\n",
       " 'to',\n",
       " 'burn',\n",
       " 'down',\n",
       " 'the',\n",
       " 'school',\n",
       " 'i',\n",
       " 'immediately',\n",
       " 'recalled',\n",
       " 'at',\n",
       " 'high']"
      ]
     },
     "execution_count": 50,
     "metadata": {},
     "output_type": "execute_result"
    }
   ],
   "source": [
    "words[:100]"
   ]
  },
  {
   "cell_type": "markdown",
   "metadata": {
    "deletable": true,
    "editable": true
   },
   "source": [
    "### Encoding the words\n",
    "\n",
    "The embedding lookup requires that we pass in integers to our network. The easiest way to do this is to create dictionaries that map the words in the vocabulary to integers. Then we can convert each of our reviews into integers so they can be passed into the network.\n",
    "\n",
    "> **Exercise:** Now you're going to encode the words with integers. Build a dictionary that maps words to integers. Later we're going to pad our input vectors with zeros, so make sure the integers **start at 1, not 0**.\n",
    "> Also, convert the reviews to integers and store the reviews in a new list called `reviews_ints`. "
   ]
  },
  {
   "cell_type": "code",
   "execution_count": 51,
   "metadata": {
    "collapsed": false,
    "deletable": true,
    "editable": true
   },
   "outputs": [],
   "source": [
    "from collections import Counter\n",
    "counts = Counter(words)\n",
    "vocab = sorted(counts, key=counts.get, reverse=True)\n",
    "vocab_to_int = {word: ii for ii, word in enumerate(vocab, 1)}\n",
    "\n",
    "reviews_ints = []\n",
    "for each in reviews:\n",
    "    reviews_ints.append([vocab_to_int[word] for word in each.split()])"
   ]
  },
  {
   "cell_type": "markdown",
   "metadata": {
    "collapsed": false,
    "deletable": true,
    "editable": true
   },
   "source": [
    "### Encoding the labels\n",
    "\n",
    "Our labels are \"positive\" or \"negative\". To use these labels in our network, we need to convert them to 0 and 1.\n",
    "\n",
    "> **Exercise:** Convert labels from `positive` and `negative` to 1 and 0, respectively."
   ]
  },
  {
   "cell_type": "code",
   "execution_count": 52,
   "metadata": {
    "collapsed": false,
    "deletable": true,
    "editable": true
   },
   "outputs": [],
   "source": [
    "labels = labels.split('\\n')\n",
    "labels = np.array([1 if each == 'positive' else 0 for each in labels])"
   ]
  },
  {
   "cell_type": "markdown",
   "metadata": {
    "deletable": true,
    "editable": true
   },
   "source": [
    "If you built `labels` correctly, you should see the next output."
   ]
  },
  {
   "cell_type": "code",
   "execution_count": 53,
   "metadata": {
    "collapsed": false,
    "deletable": true,
    "editable": true
   },
   "outputs": [
    {
     "name": "stdout",
     "output_type": "stream",
     "text": [
      "Zero-length reviews: 1\n",
      "Maximum review length: 2514\n"
     ]
    }
   ],
   "source": [
    "from collections import Counter\n",
    "review_lens = Counter([len(x) for x in reviews_ints])\n",
    "print(\"Zero-length reviews: {}\".format(review_lens[0]))\n",
    "print(\"Maximum review length: {}\".format(max(review_lens)))"
   ]
  },
  {
   "cell_type": "markdown",
   "metadata": {
    "deletable": true,
    "editable": true
   },
   "source": [
    "Okay, a couple issues here. We seem to have one review with zero length. And, the maximum review length is way too many steps for our RNN. Let's truncate to 200 steps. For reviews shorter than 200, we'll pad with 0s. For reviews longer than 200, we can truncate them to the first 200 characters.\n",
    "\n",
    "> **Exercise:** First, remove the review with zero length from the `reviews_ints` list."
   ]
  },
  {
   "cell_type": "code",
   "execution_count": 54,
   "metadata": {
    "collapsed": false,
    "deletable": true,
    "editable": true
   },
   "outputs": [],
   "source": [
    "# Filter out that review with 0 length\n",
    "reviews_ints = [review for review in reviews_ints if len(review) > 0 ]"
   ]
  },
  {
   "cell_type": "markdown",
   "metadata": {
    "deletable": true,
    "editable": true
   },
   "source": [
    "> **Exercise:** Now, create an array `features` that contains the data we'll pass to the network. The data should come from `review_ints`, since we want to feed integers to the network. Each row should be 200 elements long. For reviews shorter than 200 words, left pad with 0s. That is, if the review is `['best', 'movie', 'ever']`, `[117, 18, 128]` as integers, the row will look like `[0, 0, 0, ..., 0, 117, 18, 128]`. For reviews longer than 200, use on the first 200 words as the feature vector.\n",
    "\n",
    "This isn't trivial and there are a bunch of ways to do this. But, if you're going to be building your own deep learning networks, you're going to have to get used to preparing your data.\n",
    "\n"
   ]
  },
  {
   "cell_type": "code",
   "execution_count": 55,
   "metadata": {
    "collapsed": false,
    "deletable": true,
    "editable": true
   },
   "outputs": [],
   "source": [
    "def pad_take(review, n = 200):\n",
    "    if len(review) >= n:\n",
    "        return np.array(review[:n])\n",
    "    else:\n",
    "        return np.append(np.zeros(n - len(review)), review)\n",
    "\n",
    "seq_len = 200\n",
    "features = np.array([pad_take(review, seq_len) for review in reviews_ints])"
   ]
  },
  {
   "cell_type": "markdown",
   "metadata": {
    "deletable": true,
    "editable": true
   },
   "source": [
    "If you build features correctly, it should look like that cell output below."
   ]
  },
  {
   "cell_type": "code",
   "execution_count": 56,
   "metadata": {
    "collapsed": false,
    "deletable": true,
    "editable": true
   },
   "outputs": [
    {
     "data": {
      "text/plain": [
       "array([[  0.00000000e+00,   0.00000000e+00,   0.00000000e+00,\n",
       "          0.00000000e+00,   0.00000000e+00,   0.00000000e+00,\n",
       "          0.00000000e+00,   0.00000000e+00,   0.00000000e+00,\n",
       "          0.00000000e+00,   0.00000000e+00,   0.00000000e+00,\n",
       "          0.00000000e+00,   0.00000000e+00,   0.00000000e+00,\n",
       "          0.00000000e+00,   0.00000000e+00,   0.00000000e+00,\n",
       "          0.00000000e+00,   0.00000000e+00,   0.00000000e+00,\n",
       "          0.00000000e+00,   0.00000000e+00,   0.00000000e+00,\n",
       "          0.00000000e+00,   0.00000000e+00,   0.00000000e+00,\n",
       "          0.00000000e+00,   0.00000000e+00,   0.00000000e+00,\n",
       "          0.00000000e+00,   0.00000000e+00,   0.00000000e+00,\n",
       "          0.00000000e+00,   0.00000000e+00,   0.00000000e+00,\n",
       "          0.00000000e+00,   0.00000000e+00,   0.00000000e+00,\n",
       "          0.00000000e+00,   0.00000000e+00,   0.00000000e+00,\n",
       "          0.00000000e+00,   0.00000000e+00,   0.00000000e+00,\n",
       "          0.00000000e+00,   0.00000000e+00,   0.00000000e+00,\n",
       "          0.00000000e+00,   0.00000000e+00,   0.00000000e+00,\n",
       "          0.00000000e+00,   0.00000000e+00,   0.00000000e+00,\n",
       "          0.00000000e+00,   0.00000000e+00,   0.00000000e+00,\n",
       "          0.00000000e+00,   0.00000000e+00,   0.00000000e+00,\n",
       "          2.22360000e+04,   3.08000000e+02,   6.00000000e+00,\n",
       "          3.00000000e+00,   1.05100000e+03,   2.07000000e+02,\n",
       "          8.00000000e+00,   2.14100000e+03,   3.20000000e+01,\n",
       "          1.00000000e+00,   1.71000000e+02,   5.70000000e+01,\n",
       "          1.50000000e+01,   4.90000000e+01,   8.10000000e+01,\n",
       "          5.84400000e+03,   4.40000000e+01,   3.82000000e+02,\n",
       "          1.10000000e+02,   1.40000000e+02,   1.50000000e+01,\n",
       "          5.22400000e+03,   6.00000000e+01,   1.54000000e+02,\n",
       "          9.00000000e+00,   1.00000000e+00,   5.00300000e+03,\n",
       "          5.87000000e+03,   4.75000000e+02,   7.10000000e+01,\n",
       "          5.00000000e+00,   2.60000000e+02,   1.20000000e+01,\n",
       "          2.22360000e+04,   3.08000000e+02,   1.30000000e+01,\n",
       "          1.98000000e+03,   6.00000000e+00,   7.40000000e+01,\n",
       "          2.39600000e+03],\n",
       "       [  0.00000000e+00,   0.00000000e+00,   0.00000000e+00,\n",
       "          0.00000000e+00,   0.00000000e+00,   0.00000000e+00,\n",
       "          0.00000000e+00,   0.00000000e+00,   0.00000000e+00,\n",
       "          0.00000000e+00,   0.00000000e+00,   0.00000000e+00,\n",
       "          0.00000000e+00,   0.00000000e+00,   0.00000000e+00,\n",
       "          0.00000000e+00,   0.00000000e+00,   0.00000000e+00,\n",
       "          0.00000000e+00,   0.00000000e+00,   0.00000000e+00,\n",
       "          0.00000000e+00,   0.00000000e+00,   0.00000000e+00,\n",
       "          0.00000000e+00,   0.00000000e+00,   0.00000000e+00,\n",
       "          0.00000000e+00,   0.00000000e+00,   0.00000000e+00,\n",
       "          0.00000000e+00,   0.00000000e+00,   0.00000000e+00,\n",
       "          0.00000000e+00,   0.00000000e+00,   0.00000000e+00,\n",
       "          0.00000000e+00,   0.00000000e+00,   0.00000000e+00,\n",
       "          0.00000000e+00,   0.00000000e+00,   0.00000000e+00,\n",
       "          0.00000000e+00,   0.00000000e+00,   0.00000000e+00,\n",
       "          0.00000000e+00,   0.00000000e+00,   0.00000000e+00,\n",
       "          0.00000000e+00,   0.00000000e+00,   0.00000000e+00,\n",
       "          0.00000000e+00,   0.00000000e+00,   0.00000000e+00,\n",
       "          0.00000000e+00,   0.00000000e+00,   0.00000000e+00,\n",
       "          0.00000000e+00,   0.00000000e+00,   0.00000000e+00,\n",
       "          0.00000000e+00,   0.00000000e+00,   0.00000000e+00,\n",
       "          0.00000000e+00,   0.00000000e+00,   0.00000000e+00,\n",
       "          0.00000000e+00,   0.00000000e+00,   0.00000000e+00,\n",
       "          0.00000000e+00,   0.00000000e+00,   0.00000000e+00,\n",
       "          0.00000000e+00,   0.00000000e+00,   0.00000000e+00,\n",
       "          0.00000000e+00,   0.00000000e+00,   0.00000000e+00,\n",
       "          0.00000000e+00,   0.00000000e+00,   0.00000000e+00,\n",
       "          0.00000000e+00,   0.00000000e+00,   0.00000000e+00,\n",
       "          0.00000000e+00,   0.00000000e+00,   6.30000000e+01,\n",
       "          4.00000000e+00,   3.00000000e+00,   1.25000000e+02,\n",
       "          3.60000000e+01,   4.70000000e+01,   7.50300000e+03,\n",
       "          1.39600000e+03,   1.60000000e+01,   3.00000000e+00,\n",
       "          4.19500000e+03,   5.05000000e+02,   4.50000000e+01,\n",
       "          1.70000000e+01],\n",
       "       [  2.26050000e+04,   4.20000000e+01,   6.89180000e+04,\n",
       "          1.50000000e+01,   7.06000000e+02,   1.73760000e+04,\n",
       "          3.39000000e+03,   4.70000000e+01,   7.70000000e+01,\n",
       "          3.50000000e+01,   1.82100000e+03,   1.60000000e+01,\n",
       "          1.54000000e+02,   1.90000000e+01,   1.14000000e+02,\n",
       "          3.00000000e+00,   1.30800000e+03,   5.00000000e+00,\n",
       "          3.36000000e+02,   1.47000000e+02,   2.20000000e+01,\n",
       "          1.00000000e+00,   8.57000000e+02,   1.20000000e+01,\n",
       "          7.00000000e+01,   2.81000000e+02,   1.16800000e+03,\n",
       "          3.99000000e+02,   3.60000000e+01,   1.20000000e+02,\n",
       "          2.83000000e+02,   3.80000000e+01,   1.69000000e+02,\n",
       "          5.00000000e+00,   3.82000000e+02,   1.58000000e+02,\n",
       "          4.20000000e+01,   2.27700000e+03,   1.60000000e+01,\n",
       "          1.00000000e+00,   5.41000000e+02,   9.00000000e+01,\n",
       "          7.80000000e+01,   1.02000000e+02,   4.00000000e+00,\n",
       "          1.00000000e+00,   3.25300000e+03,   1.50000000e+01,\n",
       "          4.30000000e+01,   3.00000000e+00,   4.08000000e+02,\n",
       "          1.06800000e+03,   1.36000000e+02,   8.13500000e+03,\n",
       "          4.40000000e+01,   1.82000000e+02,   1.40000000e+02,\n",
       "          1.50000000e+01,   3.05400000e+03,   1.00000000e+00,\n",
       "          3.20000000e+02,   2.20000000e+01,   4.86200000e+03,\n",
       "          2.65170000e+04,   3.46000000e+02,   5.00000000e+00,\n",
       "          3.09300000e+03,   2.09800000e+03,   1.00000000e+00,\n",
       "          1.90080000e+04,   1.85410000e+04,   4.20000000e+01,\n",
       "          8.13500000e+03,   4.60000000e+01,   3.30000000e+01,\n",
       "          2.36000000e+02,   2.90000000e+01,   3.70000000e+02,\n",
       "          5.00000000e+00,   1.30000000e+02,   5.60000000e+01,\n",
       "          2.20000000e+01,   1.00000000e+00,   1.92900000e+03,\n",
       "          7.00000000e+00,   7.00000000e+00,   1.90000000e+01,\n",
       "          4.80000000e+01,   4.60000000e+01,   2.10000000e+01,\n",
       "          7.00000000e+01,   3.44000000e+02,   3.00000000e+00,\n",
       "          2.10400000e+03,   5.00000000e+00,   4.07000000e+02,\n",
       "          2.20000000e+01,   1.00000000e+00,   1.92900000e+03,\n",
       "          1.60000000e+01],\n",
       "       [  4.52200000e+03,   5.05000000e+02,   1.50000000e+01,\n",
       "          3.00000000e+00,   3.35200000e+03,   1.62000000e+02,\n",
       "          8.46300000e+03,   1.65400000e+03,   6.00000000e+00,\n",
       "          4.82000000e+03,   5.60000000e+01,   1.70000000e+01,\n",
       "          4.52300000e+03,   5.62300000e+03,   1.40000000e+02,\n",
       "          1.19110000e+04,   5.00000000e+00,   9.97000000e+02,\n",
       "          4.94200000e+03,   2.94700000e+03,   4.49200000e+03,\n",
       "          5.66000000e+02,   1.20100000e+03,   3.60000000e+01,\n",
       "          6.00000000e+00,   1.51900000e+03,   9.60000000e+01,\n",
       "          3.00000000e+00,   7.44000000e+02,   4.00000000e+00,\n",
       "          2.83140000e+04,   1.30000000e+01,   5.00000000e+00,\n",
       "          2.70000000e+01,   3.47100000e+03,   9.00000000e+00,\n",
       "          1.08740000e+04,   4.00000000e+00,   8.00000000e+00,\n",
       "          1.11000000e+02,   3.02100000e+03,   5.00000000e+00,\n",
       "          1.00000000e+00,   1.02700000e+03,   1.50000000e+01,\n",
       "          3.00000000e+00,   4.39100000e+03,   8.20000000e+01,\n",
       "          2.20000000e+01,   2.05000000e+03,   6.00000000e+00,\n",
       "          4.49200000e+03,   5.38000000e+02,   2.76600000e+03,\n",
       "          7.11100000e+03,   3.95850000e+04,   4.10000000e+01,\n",
       "          4.63000000e+02,   1.00000000e+00,   8.46300000e+03,\n",
       "          7.26700000e+04,   3.02000000e+02,   1.23000000e+02,\n",
       "          1.50000000e+01,   4.22300000e+03,   1.90000000e+01,\n",
       "          1.66800000e+03,   9.22000000e+02,   1.00000000e+00,\n",
       "          1.65400000e+03,   6.00000000e+00,   6.17500000e+03,\n",
       "          2.05100000e+04,   3.40000000e+01,   1.00000000e+00,\n",
       "          9.80000000e+02,   1.75400000e+03,   2.26700000e+04,\n",
       "          6.46000000e+02,   2.43970000e+04,   2.70000000e+01,\n",
       "          1.06000000e+02,   1.18710000e+04,   1.30000000e+01,\n",
       "          1.41690000e+04,   1.56300000e+04,   1.84550000e+04,\n",
       "          2.46300000e+03,   4.66000000e+02,   2.23120000e+04,\n",
       "          3.60000000e+01,   3.27800000e+03,   1.00000000e+00,\n",
       "          6.38800000e+03,   1.02000000e+03,   4.50000000e+01,\n",
       "          1.70000000e+01,   2.70200000e+03,   2.50000000e+03,\n",
       "          3.30000000e+01],\n",
       "       [  0.00000000e+00,   0.00000000e+00,   0.00000000e+00,\n",
       "          0.00000000e+00,   0.00000000e+00,   0.00000000e+00,\n",
       "          0.00000000e+00,   0.00000000e+00,   0.00000000e+00,\n",
       "          0.00000000e+00,   0.00000000e+00,   0.00000000e+00,\n",
       "          0.00000000e+00,   0.00000000e+00,   0.00000000e+00,\n",
       "          0.00000000e+00,   0.00000000e+00,   0.00000000e+00,\n",
       "          0.00000000e+00,   0.00000000e+00,   0.00000000e+00,\n",
       "          0.00000000e+00,   0.00000000e+00,   0.00000000e+00,\n",
       "          0.00000000e+00,   0.00000000e+00,   0.00000000e+00,\n",
       "          0.00000000e+00,   0.00000000e+00,   0.00000000e+00,\n",
       "          0.00000000e+00,   0.00000000e+00,   0.00000000e+00,\n",
       "          0.00000000e+00,   0.00000000e+00,   0.00000000e+00,\n",
       "          0.00000000e+00,   0.00000000e+00,   0.00000000e+00,\n",
       "          0.00000000e+00,   0.00000000e+00,   0.00000000e+00,\n",
       "          0.00000000e+00,   0.00000000e+00,   0.00000000e+00,\n",
       "          0.00000000e+00,   0.00000000e+00,   0.00000000e+00,\n",
       "          0.00000000e+00,   0.00000000e+00,   5.20000000e+02,\n",
       "          1.19000000e+02,   1.13000000e+02,   3.40000000e+01,\n",
       "          1.66660000e+04,   1.81800000e+03,   3.75200000e+03,\n",
       "          1.17000000e+02,   8.85000000e+02,   2.17650000e+04,\n",
       "          7.21000000e+02,   1.00000000e+01,   2.80000000e+01,\n",
       "          1.24000000e+02,   1.08000000e+02,   2.00000000e+00,\n",
       "          1.15000000e+02,   1.37000000e+02,   9.00000000e+00,\n",
       "          1.62500000e+03,   7.69300000e+03,   2.60000000e+01,\n",
       "          3.30000000e+02,   5.00000000e+00,   5.90000000e+02,\n",
       "          1.00000000e+00,   6.14700000e+03,   2.20000000e+01,\n",
       "          3.86000000e+02,   6.00000000e+00,   3.00000000e+00,\n",
       "          3.49000000e+02,   1.50000000e+01,   5.00000000e+01,\n",
       "          1.50000000e+01,   2.31000000e+02,   9.00000000e+00,\n",
       "          7.57500000e+03,   1.16400000e+04,   1.00000000e+00,\n",
       "          1.91000000e+02,   2.20000000e+01,   9.11400000e+03,\n",
       "          6.00000000e+00,   8.20000000e+01,   8.79000000e+02,\n",
       "          1.01000000e+02,   1.11000000e+02,   3.59200000e+03,\n",
       "          4.00000000e+00],\n",
       "       [  0.00000000e+00,   0.00000000e+00,   0.00000000e+00,\n",
       "          0.00000000e+00,   0.00000000e+00,   0.00000000e+00,\n",
       "          0.00000000e+00,   0.00000000e+00,   0.00000000e+00,\n",
       "          0.00000000e+00,   0.00000000e+00,   0.00000000e+00,\n",
       "          0.00000000e+00,   0.00000000e+00,   0.00000000e+00,\n",
       "          0.00000000e+00,   0.00000000e+00,   0.00000000e+00,\n",
       "          0.00000000e+00,   0.00000000e+00,   0.00000000e+00,\n",
       "          0.00000000e+00,   0.00000000e+00,   0.00000000e+00,\n",
       "          0.00000000e+00,   0.00000000e+00,   0.00000000e+00,\n",
       "          0.00000000e+00,   0.00000000e+00,   0.00000000e+00,\n",
       "          0.00000000e+00,   0.00000000e+00,   0.00000000e+00,\n",
       "          0.00000000e+00,   0.00000000e+00,   0.00000000e+00,\n",
       "          0.00000000e+00,   0.00000000e+00,   0.00000000e+00,\n",
       "          0.00000000e+00,   0.00000000e+00,   0.00000000e+00,\n",
       "          0.00000000e+00,   0.00000000e+00,   0.00000000e+00,\n",
       "          0.00000000e+00,   0.00000000e+00,   0.00000000e+00,\n",
       "          0.00000000e+00,   0.00000000e+00,   0.00000000e+00,\n",
       "          0.00000000e+00,   0.00000000e+00,   0.00000000e+00,\n",
       "          1.10000000e+01,   2.00000000e+01,   3.64400000e+03,\n",
       "          1.41000000e+02,   1.00000000e+01,   4.23000000e+02,\n",
       "          2.30000000e+01,   2.72000000e+02,   6.00000000e+01,\n",
       "          4.36000000e+03,   2.20000000e+01,   3.20000000e+01,\n",
       "          8.40000000e+01,   3.29700000e+03,   2.20000000e+01,\n",
       "          1.00000000e+00,   1.72000000e+02,   4.00000000e+00,\n",
       "          1.00000000e+00,   9.52000000e+02,   5.06000000e+02,\n",
       "          1.10000000e+01,   4.98300000e+03,   5.38200000e+03,\n",
       "          5.00000000e+00,   5.74000000e+02,   4.00000000e+00,\n",
       "          1.15400000e+03,   5.40000000e+01,   5.30000000e+01,\n",
       "          5.32300000e+03,   1.00000000e+00,   2.61000000e+02,\n",
       "          1.70000000e+01,   4.10000000e+01,   9.52000000e+02,\n",
       "          1.25000000e+02,   5.90000000e+01,   1.00000000e+00,\n",
       "          7.11000000e+02,   1.37000000e+02,   3.79000000e+02,\n",
       "          6.26000000e+02,   1.50000000e+01,   1.11000000e+02,\n",
       "          1.51200000e+03],\n",
       "       [  0.00000000e+00,   0.00000000e+00,   0.00000000e+00,\n",
       "          0.00000000e+00,   0.00000000e+00,   0.00000000e+00,\n",
       "          0.00000000e+00,   0.00000000e+00,   0.00000000e+00,\n",
       "          0.00000000e+00,   0.00000000e+00,   0.00000000e+00,\n",
       "          0.00000000e+00,   0.00000000e+00,   0.00000000e+00,\n",
       "          0.00000000e+00,   0.00000000e+00,   0.00000000e+00,\n",
       "          0.00000000e+00,   0.00000000e+00,   0.00000000e+00,\n",
       "          0.00000000e+00,   0.00000000e+00,   0.00000000e+00,\n",
       "          0.00000000e+00,   0.00000000e+00,   0.00000000e+00,\n",
       "          0.00000000e+00,   0.00000000e+00,   0.00000000e+00,\n",
       "          0.00000000e+00,   0.00000000e+00,   0.00000000e+00,\n",
       "          0.00000000e+00,   0.00000000e+00,   0.00000000e+00,\n",
       "          0.00000000e+00,   0.00000000e+00,   0.00000000e+00,\n",
       "          0.00000000e+00,   0.00000000e+00,   0.00000000e+00,\n",
       "          0.00000000e+00,   0.00000000e+00,   0.00000000e+00,\n",
       "          0.00000000e+00,   0.00000000e+00,   0.00000000e+00,\n",
       "          0.00000000e+00,   0.00000000e+00,   0.00000000e+00,\n",
       "          0.00000000e+00,   0.00000000e+00,   0.00000000e+00,\n",
       "          0.00000000e+00,   0.00000000e+00,   0.00000000e+00,\n",
       "          0.00000000e+00,   0.00000000e+00,   0.00000000e+00,\n",
       "          0.00000000e+00,   0.00000000e+00,   0.00000000e+00,\n",
       "          0.00000000e+00,   0.00000000e+00,   0.00000000e+00,\n",
       "          0.00000000e+00,   0.00000000e+00,   0.00000000e+00,\n",
       "          0.00000000e+00,   0.00000000e+00,   0.00000000e+00,\n",
       "          0.00000000e+00,   0.00000000e+00,   0.00000000e+00,\n",
       "          0.00000000e+00,   1.10000000e+01,   6.00000000e+00,\n",
       "          6.93000000e+02,   1.00000000e+00,   9.00000000e+01,\n",
       "          2.15700000e+03,   2.00000000e+01,   1.17410000e+04,\n",
       "          1.00000000e+00,   2.82700000e+03,   5.21300000e+03,\n",
       "          2.49000000e+02,   9.20000000e+01,   3.00600000e+03,\n",
       "          8.00000000e+00,   1.26000000e+02,   2.40000000e+01,\n",
       "          2.01000000e+02,   3.00000000e+00,   8.02000000e+02,\n",
       "          6.34000000e+02,   4.00000000e+00,   2.26050000e+04,\n",
       "          1.00100000e+03],\n",
       "       [  0.00000000e+00,   0.00000000e+00,   0.00000000e+00,\n",
       "          0.00000000e+00,   0.00000000e+00,   0.00000000e+00,\n",
       "          0.00000000e+00,   0.00000000e+00,   0.00000000e+00,\n",
       "          0.00000000e+00,   0.00000000e+00,   0.00000000e+00,\n",
       "          0.00000000e+00,   0.00000000e+00,   0.00000000e+00,\n",
       "          0.00000000e+00,   0.00000000e+00,   0.00000000e+00,\n",
       "          0.00000000e+00,   0.00000000e+00,   0.00000000e+00,\n",
       "          0.00000000e+00,   0.00000000e+00,   0.00000000e+00,\n",
       "          0.00000000e+00,   0.00000000e+00,   0.00000000e+00,\n",
       "          0.00000000e+00,   0.00000000e+00,   0.00000000e+00,\n",
       "          0.00000000e+00,   0.00000000e+00,   0.00000000e+00,\n",
       "          0.00000000e+00,   0.00000000e+00,   0.00000000e+00,\n",
       "          0.00000000e+00,   0.00000000e+00,   0.00000000e+00,\n",
       "          0.00000000e+00,   0.00000000e+00,   0.00000000e+00,\n",
       "          0.00000000e+00,   0.00000000e+00,   0.00000000e+00,\n",
       "          0.00000000e+00,   0.00000000e+00,   7.86000000e+02,\n",
       "          2.95000000e+02,   1.00000000e+01,   1.22000000e+02,\n",
       "          1.10000000e+01,   6.00000000e+00,   4.19000000e+02,\n",
       "          5.00000000e+00,   2.90000000e+01,   3.50000000e+01,\n",
       "          4.82000000e+02,   2.00000000e+01,   1.90000000e+01,\n",
       "          1.28300000e+03,   3.30000000e+01,   1.42000000e+02,\n",
       "          2.80000000e+01,   2.66700000e+03,   4.50000000e+01,\n",
       "          1.84000000e+03,   3.20000000e+01,   1.00000000e+00,\n",
       "          2.78800000e+03,   3.70000000e+01,   7.80000000e+01,\n",
       "          9.70000000e+01,   2.44500000e+03,   6.70000000e+01,\n",
       "          3.95500000e+03,   4.50000000e+01,   2.00000000e+00,\n",
       "          2.40000000e+01,   1.05000000e+02,   2.56000000e+02,\n",
       "          1.00000000e+00,   1.34000000e+02,   1.57100000e+03,\n",
       "          2.00000000e+00,   1.25970000e+04,   4.51000000e+02,\n",
       "          1.40000000e+01,   3.19000000e+02,   1.10000000e+01,\n",
       "          6.30000000e+01,   6.00000000e+00,   9.80000000e+01,\n",
       "          1.32300000e+03,   5.00000000e+00,   1.05000000e+02,\n",
       "          1.00000000e+00,   3.78900000e+03,   4.00000000e+00,\n",
       "          3.00000000e+00],\n",
       "       [  0.00000000e+00,   0.00000000e+00,   0.00000000e+00,\n",
       "          0.00000000e+00,   0.00000000e+00,   0.00000000e+00,\n",
       "          0.00000000e+00,   0.00000000e+00,   0.00000000e+00,\n",
       "          0.00000000e+00,   0.00000000e+00,   0.00000000e+00,\n",
       "          0.00000000e+00,   0.00000000e+00,   0.00000000e+00,\n",
       "          0.00000000e+00,   0.00000000e+00,   0.00000000e+00,\n",
       "          0.00000000e+00,   0.00000000e+00,   0.00000000e+00,\n",
       "          0.00000000e+00,   0.00000000e+00,   0.00000000e+00,\n",
       "          0.00000000e+00,   0.00000000e+00,   0.00000000e+00,\n",
       "          0.00000000e+00,   0.00000000e+00,   0.00000000e+00,\n",
       "          0.00000000e+00,   0.00000000e+00,   0.00000000e+00,\n",
       "          0.00000000e+00,   0.00000000e+00,   0.00000000e+00,\n",
       "          0.00000000e+00,   0.00000000e+00,   0.00000000e+00,\n",
       "          0.00000000e+00,   0.00000000e+00,   0.00000000e+00,\n",
       "          0.00000000e+00,   0.00000000e+00,   0.00000000e+00,\n",
       "          0.00000000e+00,   0.00000000e+00,   0.00000000e+00,\n",
       "          0.00000000e+00,   0.00000000e+00,   0.00000000e+00,\n",
       "          0.00000000e+00,   0.00000000e+00,   0.00000000e+00,\n",
       "          0.00000000e+00,   0.00000000e+00,   0.00000000e+00,\n",
       "          0.00000000e+00,   0.00000000e+00,   0.00000000e+00,\n",
       "          0.00000000e+00,   0.00000000e+00,   0.00000000e+00,\n",
       "          0.00000000e+00,   0.00000000e+00,   0.00000000e+00,\n",
       "          0.00000000e+00,   0.00000000e+00,   0.00000000e+00,\n",
       "          0.00000000e+00,   0.00000000e+00,   0.00000000e+00,\n",
       "          0.00000000e+00,   0.00000000e+00,   0.00000000e+00,\n",
       "          0.00000000e+00,   0.00000000e+00,   0.00000000e+00,\n",
       "          0.00000000e+00,   1.10000000e+01,   6.00000000e+00,\n",
       "          2.40000000e+01,   1.00000000e+00,   7.79000000e+02,\n",
       "          3.70200000e+03,   2.82700000e+03,   2.00000000e+01,\n",
       "          8.00000000e+00,   1.40000000e+01,   7.40000000e+01,\n",
       "          3.25000000e+02,   2.73200000e+03,   7.30000000e+01,\n",
       "          9.00000000e+01,   4.00000000e+00,   2.70000000e+01,\n",
       "          9.90000000e+01,   2.00000000e+00,   1.65000000e+02,\n",
       "          6.80000000e+01],\n",
       "       [  5.40000000e+01,   1.00000000e+01,   1.40000000e+01,\n",
       "          1.16000000e+02,   6.00000000e+01,   7.98000000e+02,\n",
       "          5.52000000e+02,   7.10000000e+01,   3.64000000e+02,\n",
       "          5.00000000e+00,   1.00000000e+00,   7.31000000e+02,\n",
       "          5.00000000e+00,   6.60000000e+01,   8.07300000e+03,\n",
       "          8.00000000e+00,   1.40000000e+01,   3.00000000e+01,\n",
       "          4.00000000e+00,   1.09000000e+02,   9.90000000e+01,\n",
       "          1.00000000e+01,   2.93000000e+02,   1.70000000e+01,\n",
       "          6.00000000e+01,   7.98000000e+02,   1.90000000e+01,\n",
       "          1.10000000e+01,   1.40000000e+01,   1.00000000e+00,\n",
       "          6.40000000e+01,   3.00000000e+01,   6.90000000e+01,\n",
       "          2.50500000e+03,   4.50000000e+01,   4.00000000e+00,\n",
       "          2.34000000e+02,   9.30000000e+01,   1.00000000e+01,\n",
       "          6.80000000e+01,   1.14000000e+02,   1.08000000e+02,\n",
       "          8.07300000e+03,   3.63000000e+02,   4.30000000e+01,\n",
       "          1.00900000e+03,   2.00000000e+00,   1.00000000e+01,\n",
       "          9.70000000e+01,   2.80000000e+01,   1.43100000e+03,\n",
       "          4.50000000e+01,   1.00000000e+00,   3.57000000e+02,\n",
       "          4.00000000e+00,   6.00000000e+01,   1.10000000e+02,\n",
       "          2.05000000e+02,   8.00000000e+00,   4.80000000e+01,\n",
       "          3.00000000e+00,   1.92800000e+03,   1.09480000e+04,\n",
       "          2.00000000e+00,   2.13000000e+03,   3.54000000e+02,\n",
       "          4.12000000e+02,   4.00000000e+00,   1.30000000e+01,\n",
       "          6.64700000e+03,   2.00000000e+00,   2.98400000e+03,\n",
       "          5.18100000e+03,   2.12800000e+03,   1.36900000e+03,\n",
       "          6.00000000e+00,   3.00000000e+01,   4.00000000e+00,\n",
       "          6.00000000e+01,   5.02000000e+02,   8.75000000e+02,\n",
       "          1.90000000e+01,   8.07300000e+03,   6.00000000e+00,\n",
       "          3.40000000e+01,   2.27000000e+02,   1.00000000e+00,\n",
       "          2.47000000e+02,   4.12000000e+02,   4.00000000e+00,\n",
       "          5.82000000e+02,   4.00000000e+00,   2.70000000e+01,\n",
       "          5.99000000e+02,   9.00000000e+00,   1.00000000e+00,\n",
       "          1.37760000e+04,   3.96000000e+02,   4.00000000e+00,\n",
       "          1.40580000e+04]])"
      ]
     },
     "execution_count": 56,
     "metadata": {},
     "output_type": "execute_result"
    }
   ],
   "source": [
    "features[:10,:100]"
   ]
  },
  {
   "cell_type": "markdown",
   "metadata": {
    "deletable": true,
    "editable": true
   },
   "source": [
    "## Training, Validation, Test\n",
    "\n"
   ]
  },
  {
   "cell_type": "markdown",
   "metadata": {
    "deletable": true,
    "editable": true
   },
   "source": [
    "With our data in nice shape, we'll split it into training, validation, and test sets.\n",
    "\n",
    "> **Exercise:** Create the training, validation, and test sets here. You'll need to create sets for the features and the labels, `train_x` and `train_y` for example. Define a split fraction, `split_frac` as the fraction of data to keep in the training set. Usually this is set to 0.8 or 0.9. The rest of the data will be split in half to create the validation and testing data."
   ]
  },
  {
   "cell_type": "code",
   "execution_count": 57,
   "metadata": {
    "collapsed": false,
    "deletable": true,
    "editable": true
   },
   "outputs": [
    {
     "name": "stdout",
     "output_type": "stream",
     "text": [
      "\t\t\tFeature Shapes:\n",
      "Train set: \t\t(20000, 200) \n",
      "Validation set: \t(2500, 200) \n",
      "Test set: \t\t(2500, 200)\n"
     ]
    }
   ],
   "source": [
    "split_frac = 0.8\n",
    "split_idx = int(len(features)*0.8)\n",
    "train_x, val_x = features[:split_idx], features[split_idx:]\n",
    "train_y, val_y = labels[:split_idx], labels[split_idx:]\n",
    "\n",
    "test_idx = int(len(val_x)*0.5)\n",
    "val_x, test_x = val_x[:test_idx], val_x[test_idx:]\n",
    "val_y, test_y = val_y[:test_idx], val_y[test_idx:]\n",
    "\n",
    "print(\"\\t\\t\\tFeature Shapes:\")\n",
    "print(\"Train set: \\t\\t{}\".format(train_x.shape), \n",
    "      \"\\nValidation set: \\t{}\".format(val_x.shape),\n",
    "      \"\\nTest set: \\t\\t{}\".format(test_x.shape))"
   ]
  },
  {
   "cell_type": "markdown",
   "metadata": {
    "deletable": true,
    "editable": true
   },
   "source": [
    "With train, validation, and text fractions of 0.8, 0.1, 0.1, the final shapes should look like:\n",
    "```\n",
    "                    Feature Shapes:\n",
    "Train set: \t\t (20000, 200) \n",
    "Validation set: \t(2500, 200) \n",
    "Test set: \t\t  (2501, 200)\n",
    "```"
   ]
  },
  {
   "cell_type": "markdown",
   "metadata": {
    "deletable": true,
    "editable": true
   },
   "source": [
    "## Build the graph\n",
    "\n",
    "Here, we'll build the graph. First up, defining the hyperparameters.\n",
    "\n",
    "* `lstm_size`: Number of units in the hidden layers in the LSTM cells. Usually larger is better performance wise. Common values are 128, 256, 512, etc.\n",
    "* `lstm_layers`: Number of LSTM layers in the network. I'd start with 1, then add more if I'm underfitting.\n",
    "* `batch_size`: The number of reviews to feed the network in one training pass. Typically this should be set as high as you can go without running out of memory.\n",
    "* `learning_rate`: Learning rate"
   ]
  },
  {
   "cell_type": "code",
   "execution_count": 58,
   "metadata": {
    "collapsed": true,
    "deletable": true,
    "editable": true
   },
   "outputs": [],
   "source": [
    "lstm_size = 256\n",
    "lstm_layers = 1\n",
    "batch_size = 500\n",
    "learning_rate = 0.001"
   ]
  },
  {
   "cell_type": "markdown",
   "metadata": {
    "deletable": true,
    "editable": true
   },
   "source": [
    "For the network itself, we'll be passing in our 200 element long review vectors. Each batch will be `batch_size` vectors. We'll also be using dropout on the LSTM layer, so we'll make a placeholder for the keep probability."
   ]
  },
  {
   "cell_type": "markdown",
   "metadata": {
    "deletable": true,
    "editable": true
   },
   "source": [
    "> **Exercise:** Create the `inputs_`, `labels_`, and drop out `keep_prob` placeholders using `tf.placeholder`. `labels_` needs to be two-dimensional to work with some functions later.  Since `keep_prob` is a scalar (a 0-dimensional tensor), you shouldn't provide a size to `tf.placeholder`."
   ]
  },
  {
   "cell_type": "code",
   "execution_count": 59,
   "metadata": {
    "collapsed": false,
    "deletable": true,
    "editable": true
   },
   "outputs": [],
   "source": [
    "n_words = len(vocab)\n",
    "\n",
    "# Create the graph object\n",
    "graph = tf.Graph()\n",
    "# Add nodes to the graph\n",
    "with graph.as_default():\n",
    "    inputs_ = tf.placeholder(tf.int32, [None, None], name='inputs')\n",
    "    labels_ = tf.placeholder(tf.int32, [None, None], name='labels')\n",
    "    keep_prob = tf.placeholder(tf.float32, name='keep_prob')"
   ]
  },
  {
   "cell_type": "markdown",
   "metadata": {
    "deletable": true,
    "editable": true
   },
   "source": [
    "### Embedding\n",
    "\n",
    "Now we'll add an embedding layer. We need to do this because there are 74000 words in our vocabulary. It is massively inefficient to one-hot encode our classes here. You should remember dealing with this problem from the word2vec lesson. Instead of one-hot encoding, we can have an embedding layer and use that layer as a lookup table. You could train an embedding layer using word2vec, then load it here. But, it's fine to just make a new layer and let the network learn the weights.\n",
    "\n",
    "> **Exercise:** Create the embedding lookup matrix as a `tf.Variable`. Use that embedding matrix to get the embedded vectors to pass to the LSTM cell with [`tf.nn.embedding_lookup`](https://www.tensorflow.org/api_docs/python/tf/nn/embedding_lookup). This function takes the embedding matrix and an input tensor, such as the review vectors. Then, it'll return another tensor with the embedded vectors. So, if the embedding layer has 200 units, the function will return a tensor with size [batch_size, 200].\n",
    "\n"
   ]
  },
  {
   "cell_type": "code",
   "execution_count": 60,
   "metadata": {
    "collapsed": false,
    "deletable": true,
    "editable": true
   },
   "outputs": [],
   "source": [
    "# Size of the embedding vectors (number of units in the embedding layer)\n",
    "embed_size = 300 \n",
    "\n",
    "with graph.as_default():\n",
    "    embedding = tf.Variable(tf.random_uniform((n_words, embed_size), -1, 1))\n",
    "    embed = tf.nn.embedding_lookup(embedding, inputs_)"
   ]
  },
  {
   "cell_type": "markdown",
   "metadata": {
    "deletable": true,
    "editable": true
   },
   "source": [
    "### LSTM cell\n",
    "\n",
    "<img src=\"assets/network_diagram.png\" width=400px>\n",
    "\n",
    "Next, we'll create our LSTM cells to use in the recurrent network ([TensorFlow documentation](https://www.tensorflow.org/api_docs/python/tf/contrib/rnn)). Here we are just defining what the cells look like. This isn't actually building the graph, just defining the type of cells we want in our graph.\n",
    "\n",
    "To create a basic LSTM cell for the graph, you'll want to use `tf.contrib.rnn.BasicLSTMCell`. Looking at the function documentation:\n",
    "\n",
    "```\n",
    "tf.contrib.rnn.BasicLSTMCell(num_units, forget_bias=1.0, input_size=None, state_is_tuple=True, activation=<function tanh at 0x109f1ef28>)\n",
    "```\n",
    "\n",
    "you can see it takes a parameter called `num_units`, the number of units in the cell, called `lstm_size` in this code. So then, you can write something like \n",
    "\n",
    "```\n",
    "lstm = tf.contrib.rnn.BasicLSTMCell(num_units)\n",
    "```\n",
    "\n",
    "to create an LSTM cell with `num_units`. Next, you can add dropout to the cell with `tf.contrib.rnn.DropoutWrapper`. This just wraps the cell in another cell, but with dropout added to the inputs and/or outputs. It's a really convenient way to make your network better with almost no effort! So you'd do something like\n",
    "\n",
    "```\n",
    "drop = tf.contrib.rnn.DropoutWrapper(cell, output_keep_prob=keep_prob)\n",
    "```\n",
    "\n",
    "Most of the time, you're network will have better performance with more layers. That's sort of the magic of deep learning, adding more layers allows the network to learn really complex relationships. Again, there is a simple way to create multiple layers of LSTM cells with `tf.contrib.rnn.MultiRNNCell`:\n",
    "\n",
    "```\n",
    "cell = tf.contrib.rnn.MultiRNNCell([drop] * lstm_layers)\n",
    "```\n",
    "\n",
    "Here, `[drop] * lstm_layers` creates a list of cells (`drop`) that is `lstm_layers` long. The `MultiRNNCell` wrapper builds this into multiple layers of RNN cells, one for each cell in the list.\n",
    "\n",
    "So the final cell you're using in the network is actually multiple (or just one) LSTM cells with dropout. But it all works the same from an achitectural viewpoint, just a more complicated graph in the cell.\n",
    "\n",
    "> **Exercise:** Below, use `tf.contrib.rnn.BasicLSTMCell` to create an LSTM cell. Then, add drop out to it with `tf.contrib.rnn.DropoutWrapper`. Finally, create multiple LSTM layers with `tf.contrib.rnn.MultiRNNCell`.\n",
    "\n",
    "Here is [a tutorial on building RNNs](https://www.tensorflow.org/tutorials/recurrent) that will help you out.\n"
   ]
  },
  {
   "cell_type": "code",
   "execution_count": 61,
   "metadata": {
    "collapsed": false,
    "deletable": true,
    "editable": true
   },
   "outputs": [],
   "source": [
    "with graph.as_default():\n",
    "    # Your basic LSTM cell\n",
    "    lstm = tf.contrib.rnn.BasicLSTMCell(embed_size)\n",
    "    \n",
    "    # Add dropout to the cell\n",
    "    drop = tf.contrib.rnn.DropoutWrapper(lstm)\n",
    "    \n",
    "    # Stack up multiple LSTM layers, for deep learning\n",
    "    cell = tf.contrib.rnn.MultiRNNCell([drop] * lstm_layers)\n",
    "    \n",
    "    # Getting an initial state of all zeros\n",
    "    initial_state = cell.zero_state(batch_size, tf.float32)"
   ]
  },
  {
   "cell_type": "markdown",
   "metadata": {
    "deletable": true,
    "editable": true
   },
   "source": [
    "### RNN forward pass\n",
    "\n",
    "<img src=\"assets/network_diagram.png\" width=400px>\n",
    "\n",
    "Now we need to actually run the data through the RNN nodes. You can use [`tf.nn.dynamic_rnn`](https://www.tensorflow.org/api_docs/python/tf/nn/dynamic_rnn) to do this. You'd pass in the RNN cell you created (our multiple layered LSTM `cell` for instance), and the inputs to the network.\n",
    "\n",
    "```\n",
    "outputs, final_state = tf.nn.dynamic_rnn(cell, inputs, initial_state=initial_state)\n",
    "```\n",
    "\n",
    "Above I created an initial state, `initial_state`, to pass to the RNN. This is the cell state that is passed between the hidden layers in successive time steps. `tf.nn.dynamic_rnn` takes care of most of the work for us. We pass in our cell and the input to the cell, then it does the unrolling and everything else for us. It returns outputs for each time step and the final_state of the hidden layer.\n",
    "\n",
    "> **Exercise:** Use `tf.nn.dynamic_rnn` to add the forward pass through the RNN. Remember that we're actually passing in vectors from the embedding layer, `embed`.\n",
    "\n"
   ]
  },
  {
   "cell_type": "code",
   "execution_count": 62,
   "metadata": {
    "collapsed": false,
    "deletable": true,
    "editable": true
   },
   "outputs": [],
   "source": [
    "with graph.as_default():\n",
    "    outputs, final_state = tf.nn.dynamic_rnn(cell, embed, initial_state=initial_state)"
   ]
  },
  {
   "cell_type": "markdown",
   "metadata": {
    "deletable": true,
    "editable": true
   },
   "source": [
    "### Output\n",
    "\n",
    "We only care about the final output, we'll be using that as our sentiment prediction. So we need to grab the last output with `outputs[:, -1]`, the calculate the cost from that and `labels_`."
   ]
  },
  {
   "cell_type": "code",
   "execution_count": 63,
   "metadata": {
    "collapsed": false,
    "deletable": true,
    "editable": true
   },
   "outputs": [],
   "source": [
    "with graph.as_default():\n",
    "    predictions = tf.contrib.layers.fully_connected(outputs[:, -1], 1, activation_fn=tf.sigmoid)\n",
    "    cost = tf.losses.mean_squared_error(labels_, predictions)\n",
    "    \n",
    "    optimizer = tf.train.AdamOptimizer(learning_rate).minimize(cost)"
   ]
  },
  {
   "cell_type": "markdown",
   "metadata": {
    "deletable": true,
    "editable": true
   },
   "source": [
    "### Validation accuracy\n",
    "\n",
    "Here we can add a few nodes to calculate the accuracy which we'll use in the validation pass."
   ]
  },
  {
   "cell_type": "code",
   "execution_count": 64,
   "metadata": {
    "collapsed": false,
    "deletable": true,
    "editable": true
   },
   "outputs": [],
   "source": [
    "with graph.as_default():\n",
    "    correct_pred = tf.equal(tf.cast(tf.round(predictions), tf.int32), labels_)\n",
    "    accuracy = tf.reduce_mean(tf.cast(correct_pred, tf.float32))"
   ]
  },
  {
   "cell_type": "markdown",
   "metadata": {
    "deletable": true,
    "editable": true
   },
   "source": [
    "### Batching\n",
    "\n",
    "This is a simple function for returning batches from our data. First it removes data such that we only have full batches. Then it iterates through the `x` and `y` arrays and returns slices out of those arrays with size `[batch_size]`."
   ]
  },
  {
   "cell_type": "code",
   "execution_count": 65,
   "metadata": {
    "collapsed": true,
    "deletable": true,
    "editable": true
   },
   "outputs": [],
   "source": [
    "def get_batches(x, y, batch_size=100):\n",
    "    \n",
    "    n_batches = len(x)//batch_size\n",
    "    x, y = x[:n_batches*batch_size], y[:n_batches*batch_size]\n",
    "    for ii in range(0, len(x), batch_size):\n",
    "        yield x[ii:ii+batch_size], y[ii:ii+batch_size]"
   ]
  },
  {
   "cell_type": "markdown",
   "metadata": {
    "deletable": true,
    "editable": true
   },
   "source": [
    "## Training\n",
    "\n",
    "Below is the typical training code. If you want to do this yourself, feel free to delete all this code and implement it yourself. Before you run this, make sure the `checkpoints` directory exists."
   ]
  },
  {
   "cell_type": "code",
   "execution_count": null,
   "metadata": {
    "collapsed": false,
    "deletable": true,
    "editable": true
   },
   "outputs": [
    {
     "name": "stdout",
     "output_type": "stream",
     "text": [
      "Epoch: 0/10 Iteration: 5 Train loss: 0.239\n",
      "Epoch: 0/10 Iteration: 10 Train loss: 0.224\n",
      "Epoch: 0/10 Iteration: 15 Train loss: 0.200\n",
      "Epoch: 0/10 Iteration: 20 Train loss: 0.172\n",
      "Epoch: 0/10 Iteration: 25 Train loss: 0.221\n",
      "Val acc: 0.697\n",
      "Epoch: 0/10 Iteration: 30 Train loss: 0.205\n",
      "Epoch: 0/10 Iteration: 35 Train loss: 0.186\n",
      "Epoch: 0/10 Iteration: 40 Train loss: 0.193\n",
      "Epoch: 1/10 Iteration: 45 Train loss: 0.149\n",
      "Epoch: 1/10 Iteration: 50 Train loss: 0.185\n",
      "Val acc: 0.705\n",
      "Epoch: 1/10 Iteration: 55 Train loss: 0.272\n",
      "Epoch: 1/10 Iteration: 60 Train loss: 0.214\n",
      "Epoch: 1/10 Iteration: 65 Train loss: 0.180\n",
      "Epoch: 1/10 Iteration: 70 Train loss: 0.195\n",
      "Epoch: 1/10 Iteration: 75 Train loss: 0.212\n",
      "Val acc: 0.703\n",
      "Epoch: 1/10 Iteration: 80 Train loss: 0.227\n",
      "Epoch: 2/10 Iteration: 85 Train loss: 0.164\n",
      "Epoch: 2/10 Iteration: 90 Train loss: 0.184\n",
      "Epoch: 2/10 Iteration: 95 Train loss: 0.214\n",
      "Epoch: 2/10 Iteration: 100 Train loss: 0.184\n",
      "Val acc: 0.710\n",
      "Epoch: 2/10 Iteration: 105 Train loss: 0.170\n",
      "Epoch: 2/10 Iteration: 110 Train loss: 0.213\n",
      "Epoch: 2/10 Iteration: 115 Train loss: 0.188\n",
      "Epoch: 2/10 Iteration: 120 Train loss: 0.162\n",
      "Epoch: 3/10 Iteration: 125 Train loss: 0.204\n",
      "Val acc: 0.640\n",
      "Epoch: 3/10 Iteration: 130 Train loss: 0.214\n",
      "Epoch: 3/10 Iteration: 135 Train loss: 0.234\n",
      "Epoch: 3/10 Iteration: 140 Train loss: 0.168\n",
      "Epoch: 3/10 Iteration: 145 Train loss: 0.176\n",
      "Epoch: 3/10 Iteration: 150 Train loss: 0.200\n",
      "Val acc: 0.684\n",
      "Epoch: 3/10 Iteration: 155 Train loss: 0.180\n",
      "Epoch: 3/10 Iteration: 160 Train loss: 0.166\n",
      "Epoch: 4/10 Iteration: 165 Train loss: 0.127\n",
      "Epoch: 4/10 Iteration: 170 Train loss: 0.278\n",
      "Epoch: 4/10 Iteration: 175 Train loss: 0.215\n",
      "Val acc: 0.586\n",
      "Epoch: 4/10 Iteration: 180 Train loss: 0.230\n",
      "Epoch: 4/10 Iteration: 185 Train loss: 0.202\n",
      "Epoch: 4/10 Iteration: 190 Train loss: 0.203\n",
      "Epoch: 4/10 Iteration: 195 Train loss: 0.189\n",
      "Epoch: 4/10 Iteration: 200 Train loss: 0.193\n",
      "Val acc: 0.662\n",
      "Epoch: 5/10 Iteration: 205 Train loss: 0.158\n",
      "Epoch: 5/10 Iteration: 210 Train loss: 0.142\n",
      "Epoch: 5/10 Iteration: 215 Train loss: 0.224\n",
      "Epoch: 5/10 Iteration: 220 Train loss: 0.168\n",
      "Epoch: 5/10 Iteration: 225 Train loss: 0.178\n",
      "Val acc: 0.676\n",
      "Epoch: 5/10 Iteration: 230 Train loss: 0.153\n",
      "Epoch: 5/10 Iteration: 235 Train loss: 0.141\n",
      "Epoch: 5/10 Iteration: 240 Train loss: 0.128\n",
      "Epoch: 6/10 Iteration: 245 Train loss: 0.161\n",
      "Epoch: 6/10 Iteration: 250 Train loss: 0.155\n",
      "Val acc: 0.701\n",
      "Epoch: 6/10 Iteration: 255 Train loss: 0.167\n",
      "Epoch: 6/10 Iteration: 260 Train loss: 0.144\n",
      "Epoch: 6/10 Iteration: 265 Train loss: 0.116\n",
      "Epoch: 6/10 Iteration: 270 Train loss: 0.091\n",
      "Epoch: 6/10 Iteration: 275 Train loss: 0.110\n",
      "Val acc: 0.804\n",
      "Epoch: 6/10 Iteration: 280 Train loss: 0.103\n",
      "Epoch: 7/10 Iteration: 285 Train loss: 0.112\n",
      "Epoch: 7/10 Iteration: 290 Train loss: 0.116\n",
      "Epoch: 7/10 Iteration: 295 Train loss: 0.113\n",
      "Epoch: 7/10 Iteration: 300 Train loss: 0.101\n",
      "Val acc: 0.793\n",
      "Epoch: 7/10 Iteration: 305 Train loss: 0.092\n",
      "Epoch: 7/10 Iteration: 310 Train loss: 0.080\n",
      "Epoch: 7/10 Iteration: 315 Train loss: 0.090\n",
      "Epoch: 7/10 Iteration: 320 Train loss: 0.114\n",
      "Epoch: 8/10 Iteration: 325 Train loss: 0.111\n",
      "Val acc: 0.806\n",
      "Epoch: 8/10 Iteration: 330 Train loss: 0.085\n",
      "Epoch: 8/10 Iteration: 335 Train loss: 0.083\n",
      "Epoch: 8/10 Iteration: 340 Train loss: 0.089\n",
      "Epoch: 8/10 Iteration: 345 Train loss: 0.086\n",
      "Epoch: 8/10 Iteration: 350 Train loss: 0.075\n",
      "Val acc: 0.822\n",
      "Epoch: 8/10 Iteration: 355 Train loss: 0.083\n",
      "Epoch: 8/10 Iteration: 360 Train loss: 0.098\n",
      "Epoch: 9/10 Iteration: 365 Train loss: 0.062\n",
      "Epoch: 9/10 Iteration: 370 Train loss: 0.084\n",
      "Epoch: 9/10 Iteration: 375 Train loss: 0.089\n",
      "Val acc: 0.770\n",
      "Epoch: 9/10 Iteration: 380 Train loss: 0.096\n"
     ]
    }
   ],
   "source": [
    "epochs = 10\n",
    "\n",
    "with graph.as_default():\n",
    "    saver = tf.train.Saver()\n",
    "\n",
    "with tf.Session(graph=graph) as sess:\n",
    "    sess.run(tf.global_variables_initializer())\n",
    "    iteration = 1\n",
    "    for e in range(epochs):\n",
    "        state = sess.run(initial_state)\n",
    "        \n",
    "        for ii, (x, y) in enumerate(get_batches(train_x, train_y, batch_size), 1):\n",
    "            feed = {inputs_: x,\n",
    "                    labels_: y[:, None],\n",
    "                    keep_prob: 0.5,\n",
    "                    initial_state: state}\n",
    "            loss, state, _ = sess.run([cost, final_state, optimizer], feed_dict=feed)\n",
    "            \n",
    "            if iteration%5==0:\n",
    "                print(\"Epoch: {}/{}\".format(e, epochs),\n",
    "                      \"Iteration: {}\".format(iteration),\n",
    "                      \"Train loss: {:.3f}\".format(loss))\n",
    "\n",
    "            if iteration%25==0:\n",
    "                val_acc = []\n",
    "                val_state = sess.run(cell.zero_state(batch_size, tf.float32))\n",
    "                for x, y in get_batches(val_x, val_y, batch_size):\n",
    "                    feed = {inputs_: x,\n",
    "                            labels_: y[:, None],\n",
    "                            keep_prob: 1,\n",
    "                            initial_state: val_state}\n",
    "                    batch_acc, val_state = sess.run([accuracy, final_state], feed_dict=feed)\n",
    "                    val_acc.append(batch_acc)\n",
    "                print(\"Val acc: {:.3f}\".format(np.mean(val_acc)))\n",
    "            iteration +=1\n",
    "    saver.save(sess, \"checkpoints/sentiment.ckpt\")"
   ]
  },
  {
   "cell_type": "markdown",
   "metadata": {
    "deletable": true,
    "editable": true
   },
   "source": [
    "## Testing"
   ]
  },
  {
   "cell_type": "code",
   "execution_count": null,
   "metadata": {
    "collapsed": false,
    "deletable": true,
    "editable": true
   },
   "outputs": [],
   "source": [
    "test_acc = []\n",
    "with tf.Session(graph=graph) as sess:\n",
    "    saver.restore(sess, tf.train.latest_checkpoint('/output/checkpoints'))\n",
    "    test_state = sess.run(cell.zero_state(batch_size, tf.float32))\n",
    "    for ii, (x, y) in enumerate(get_batches(test_x, test_y, batch_size), 1):\n",
    "        feed = {inputs_: x,\n",
    "                labels_: y[:, None],\n",
    "                keep_prob: 1,\n",
    "                initial_state: test_state}\n",
    "        batch_acc, test_state = sess.run([accuracy, final_state], feed_dict=feed)\n",
    "        test_acc.append(batch_acc)\n",
    "    print(\"Test accuracy: {:.3f}\".format(np.mean(test_acc)))"
   ]
  },
  {
   "cell_type": "code",
   "execution_count": null,
   "metadata": {
    "collapsed": true
   },
   "outputs": [],
   "source": []
  }
 ],
 "metadata": {
  "anaconda-cloud": {},
  "kernelspec": {
   "display_name": "Python 3",
   "language": "python",
   "name": "python3"
  },
  "language_info": {
   "codemirror_mode": {
    "name": "ipython",
    "version": 3
   },
   "file_extension": ".py",
   "mimetype": "text/x-python",
   "name": "python",
   "nbconvert_exporter": "python",
   "pygments_lexer": "ipython3",
   "version": "3.5.2"
  },
  "widgets": {
   "state": {},
   "version": "1.1.2"
  }
 },
 "nbformat": 4,
 "nbformat_minor": 2
}
